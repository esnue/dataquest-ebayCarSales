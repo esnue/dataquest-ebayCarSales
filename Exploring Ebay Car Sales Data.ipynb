{
 "cells": [
  {
   "cell_type": "markdown",
   "metadata": {},
   "source": [
    "# Analysis of Car Listings on eBay Kleinanzeigen \n",
    "\n",
    "\n",
    "## Description\n",
    "A dataset with 50,000 datapoints will be used that has been scraped from the German eBay section's website. The aim of this project is to analyze the included used car listings after the dataset has been cleaned. \n",
    "\n",
    "## Summary\n",
    "The data dictionary provided with data is as follows:\n",
    "\n",
    "- `dateCrawled` - When this ad was first crawled. All field-values are taken from this date.\n",
    "- `name` - Name of the car.\n",
    "- `seller` - Whether the seller is private or a dealer.\n",
    "- `offerType` - The type of listing\n",
    "- `price` - The price on the ad to sell the car.\n",
    "- `abtest` - Whether the listing is included in an A/B test.\n",
    "- `vehicleType` - The vehicle Type.\n",
    "- `yearOfRegistration` - The year in which the car was first registered.\n",
    "- `gearbox` - The transmission type.\n",
    "- `powerPS` - The power of the car in PS.\n",
    "- `model` - The car model name.\n",
    "- `kilometer` - How many kilometers the car has driven.\n",
    "- `monthOfRegistration` - The month in which the car was first registered.\n",
    "- `fuelType` - What type of fuel the car uses.\n",
    "- `brand` - The brand of the car.\n",
    "- `notRepairedDamage` - If the car has a damage which is not yet repaired.\n",
    "- `dateCreated` - The date on which the eBay listing was created.\n",
    "- `nrOfPictures` - The number of pictures in the ad.\n",
    "- `postalCode` - The postal code for the location of the vehicle.\n",
    "- `lastSeenOnline` - When the crawler saw this ad last online.\n",
    "\n",
    "The dataset is in German."
   ]
  },
  {
   "cell_type": "code",
   "execution_count": null,
   "metadata": {},
   "outputs": [],
   "source": [
    "import numpy as np\n",
    "import pandas as pd\n",
    "\n",
    "autos = pd.read_csv('autos.csv', encoding='Latin-1')\n",
    "\n",
    "autos"
   ]
  },
  {
   "cell_type": "code",
   "execution_count": null,
   "metadata": {},
   "outputs": [],
   "source": [
    "autos.info()\n",
    "autos.head()"
   ]
  },
  {
   "cell_type": "markdown",
   "metadata": {},
   "source": [
    "# Observations on the Data\n",
    "\n",
    "The dataset consists of a total of 20 columns. It contains five integer dtypes and 15 string objects. The columns `vehicleType`, `gearbox`, `model`, `fuelType` and `notrepairedDamage` contain NaN, but none have more than ~20% null values. The column names are in camelcase."
   ]
  },
  {
   "cell_type": "code",
   "execution_count": null,
   "metadata": {},
   "outputs": [],
   "source": [
    "autos.columns"
   ]
  },
  {
   "cell_type": "code",
   "execution_count": null,
   "metadata": {},
   "outputs": [],
   "source": [
    "#list of column names in snakecase\n",
    "snake_cols=['date_crawled', 'name', 'seller', 'offer_type', 'price', 'abtest',\n",
    "       'vehicle_type', 'registration_year', 'gearbox', 'power_ps', 'model',\n",
    "       'odometer', 'registration_month', 'fuel_type', 'brand',\n",
    "       'unrepaired_damage', 'ad_created', 'nr_of_pictures', 'postal_code',\n",
    "       'last_seen']\n",
    "\n",
    "#assign edited column names\n",
    "autos.columns=snake_cols\n",
    "\n",
    "autos.head()"
   ]
  },
  {
   "cell_type": "code",
   "execution_count": null,
   "metadata": {},
   "outputs": [],
   "source": [
    "#get descriptive stats on the whole dataset\n",
    "autos.describe(include='all')"
   ]
  },
  {
   "cell_type": "markdown",
   "metadata": {},
   "source": [
    "# Descriptive Statistics for all Columns\n",
    "\n",
    "Text columns where all or almost all values are the same can often be dropped as they don't have useful information for analysis. \n",
    "The descriptive statistics table above reveals that:\n",
    "- Out of 50,000 observations in the `seller` column, 49,999 are `privat`\n",
    "- Out of 50,000 observations in the `offer_type` column, 49,999 are `Angebot`\n",
    "- All values in the `nr_of_pictures` columns appear to be zero \n",
    "- Most offers don't seem to have included a postal code in the `postal_code` column\n",
    "- Values in the `price` and in the `odometer` column are stored as text"
   ]
  },
  {
   "cell_type": "code",
   "execution_count": null,
   "metadata": {},
   "outputs": [],
   "source": [
    "#all privat, except one gewerblich\n",
    "print(autos['seller'].value_counts())\n",
    "#all Angebot, except one Gesuch\n",
    "print(autos['offer_type'].value_counts())\n",
    "#all 0s\n",
    "print(autos['nr_of_pictures'].value_counts())\n"
   ]
  },
  {
   "cell_type": "code",
   "execution_count": null,
   "metadata": {},
   "outputs": [],
   "source": [
    "#Remove non-numeric characters and convert to numeric dtype for price and odometer\n",
    "autos[\"price\"]=(autos[\"price\"].str.replace(\"$\", \"\")\n",
    "                .str.replace(\",\", \"\").astype(int)\n",
    "               )\n",
    "\n",
    "autos[\"odometer\"]=(autos[\"odometer\"].str.replace(\"km\", \"\")\n",
    "                   .str.replace(\",\",\"\")\n",
    "                  .astype(int)\n",
    "                  )\n",
    "\n",
    "#rename col odometer to odometer_km\n",
    "autos.rename({\"odometer\": \"odometer_km\"}, axis=1, inplace=True)\n",
    "\n",
    "#drop seller, offer_type and nr_of_pictures cols\n",
    "autos.drop(['seller', 'offer_type', 'nr_of_pictures'], axis=1, inplace=True)"
   ]
  },
  {
   "cell_type": "code",
   "execution_count": null,
   "metadata": {},
   "outputs": [],
   "source": [
    "#check if numeric conversion and re-labeling worked\n",
    "print(autos.info())"
   ]
  },
  {
   "cell_type": "code",
   "execution_count": null,
   "metadata": {},
   "outputs": [],
   "source": [
    "#function to explore data further\n",
    "def explore_data(series):\n",
    "    unique_vals=series.unique().shape[0]\n",
    "    print(\"{s} has {u} unique values\".format(s=series.name, \n",
    "                                             u=unique_vals))\n",
    "    print('Descriptive Stats')\n",
    "    print(series.describe().round(2))\n",
    "    print('Variations of Value Counts')\n",
    "    print(series.value_counts().\n",
    "          sort_index(ascending=True)\n",
    "         )\n",
    "          \n",
    "#call explore data on price and odometer_km columns\n",
    "explore_data(autos[\"price\"])\n",
    "print('\\n')\n",
    "explore_data(autos[\"odometer_km\"])"
   ]
  },
  {
   "cell_type": "code",
   "execution_count": null,
   "metadata": {},
   "outputs": [],
   "source": [
    "#exclude outliers from price col from the dataset\n",
    "autos = autos[autos[\"price\"].between(1,999999)]"
   ]
  },
  {
   "cell_type": "markdown",
   "metadata": {},
   "source": [
    "# Outliers in the Data\n",
    "\n",
    "## Price\n",
    "The maximum possible price to enter seems to be 999,999, prices above seem to have been used as placeholder prices. But even if these were legit prices, there are only very few observations above this point which would bias the sample.\n",
    "The minimum price is 0, which is counted 1,421 times. \n",
    "Therefore, all observations that are equal to 0 and above 999,999 will be removed. \n",
    "\n",
    "## Odometer_km\n",
    "There are no abnormal observations in this column, so no datapoints will be removed. "
   ]
  },
  {
   "cell_type": "code",
   "execution_count": null,
   "metadata": {},
   "outputs": [],
   "source": [
    "def explore_date(series):\n",
    "    #include missing values in the distribution and use percentages instead of counts\n",
    "    print(series.str[:10].value_counts(normalize=True, dropna=False)\n",
    "          .sort_index(ascending=True)\n",
    "         )\n",
    "    \n",
    "print('Date crawled')\n",
    "explore_date(autos[\"date_crawled\"])\n",
    "print('\\n')\n",
    "print('Ad created')\n",
    "explore_date(autos[\"ad_created\"])\n",
    "print('\\n')\n",
    "print('Last seen')\n",
    "explore_date(autos[\"last_seen\"])"
   ]
  },
  {
   "cell_type": "code",
   "execution_count": null,
   "metadata": {
    "scrolled": false
   },
   "outputs": [],
   "source": [
    "print(autos[\"registration_year\"].describe())"
   ]
  },
  {
   "cell_type": "markdown",
   "metadata": {},
   "source": [
    "## Date columns\n",
    "The distribution of `date_crawled` shows that the dataset has been crawled between May and July 2016. There seem to be no noticeable accumulations in the `ad_created` and `last_seen` columns. \n",
    "In the column `registration_year`, we do find some outliers, namely year 1000 as minimum and 9999 as maximum, both need to be excluded from the dataset. As the data was crawled in 2016, excluding datapoints with registration years earlier than 1900 and later than 2016 makes sense. "
   ]
  },
  {
   "cell_type": "code",
   "execution_count": null,
   "metadata": {},
   "outputs": [],
   "source": [
    "autos=autos[autos[\"registration_year\"].between(1900,2016)]\n",
    "\n",
    "print('Value Count')\n",
    "autos[\"registration_year\"].value_counts(normalize=True).sort_index(ascending=True)"
   ]
  },
  {
   "cell_type": "markdown",
   "metadata": {},
   "source": [
    "The values in the column registration_year seem to be plausible now, with a lower bound of 1910 and upper bound of 2016. There are again no extreme accumulations, but most cars offered seem to be from the late 1990s to late 2000s"
   ]
  },
  {
   "cell_type": "code",
   "execution_count": null,
   "metadata": {},
   "outputs": [],
   "source": [
    "#find the 20 most common brands\n",
    "brand_count = autos[\"brand\"].value_counts().head(21)\n",
    "print(brand_count)"
   ]
  },
  {
   "cell_type": "markdown",
   "metadata": {},
   "source": [
    "## Brands\n",
    "There are in total over 40 brands in the dataset, which is why it makes sense to aggregate. Therefore, I will perform further analysis only on the 20 most common brands."
   ]
  },
  {
   "cell_type": "code",
   "execution_count": null,
   "metadata": {},
   "outputs": [],
   "source": [
    "mean_price_brand={}\n",
    "top_20=brand_count[brand_count>408].index\n",
    "\n",
    "for t in top_20:\n",
    "    sel_rows=autos[autos[\"brand\"]==t]\n",
    "    mean_price=sel_rows[\"price\"].mean().round(2)\n",
    "    mean_price_brand[t]=float(mean_price)\n",
    "    \n",
    "print(mean_price_brand)"
   ]
  },
  {
   "cell_type": "markdown",
   "metadata": {},
   "source": [
    "The most popular brand Volkswagen is being offered at a mean price of 5,604.07, while the least popular out of the top 20 popular brands, Mini, is being offered at a mean price of 10,613.46. In general, Mini, Audi, BMW and Mercedes Benz are more expensive and Fiat, Renault and Opel are less expensive with mean prices below 3,000."
   ]
  },
  {
   "cell_type": "code",
   "execution_count": null,
   "metadata": {},
   "outputs": [],
   "source": [
    "mean_mileage_brand={}\n",
    "#top_6=brand_count[brand_count>3263].index\n",
    "\n",
    "for t in top_20:\n",
    "    sel_rows=autos[autos[\"brand\"]==t]\n",
    "    #mean_price=sel_rows[\"price\"].mean().round(2)\n",
    "    mean_mileage=sel_rows[\"odometer_km\"].mean().round(2)\n",
    "    mean_mileage_brand[t]=float(mean_mileage)\n",
    "    \n",
    "#Convert both dictionaries to series objects\n",
    "bmp_series = pd.Series(mean_price_brand)\n",
    "bmm_series = pd.Series(mean_mileage_brand)\n",
    "\n",
    "#Create a dataframe from bmp_series\n",
    "bmp_df = pd.DataFrame(bmp_series, columns=[\"mean_price\"])\n",
    "\n",
    "#Assign the bmm_series as a new column\n",
    "bmp_df[\"mean_mileage\"]=bmm_series\n",
    "\n",
    "bmp_df.sort_values(\"mean_price\", ascending=True)"
   ]
  },
  {
   "cell_type": "markdown",
   "metadata": {},
   "source": [
    "# Conclusion\n",
    "The reason why Mini is the most expensive brand seems to be the relatively low average mileage, which is at ca. 88,000 km. \"Sonstige Autos\" (aggregated other brands) shows an even higher mean price with a comparable mean mileage. Hence, there seems to be an inverse correlation between mileage and price of used cars. Nevertheless, this doesn't seem to be a very consistent relationship; f.e. Audi cars are among the most expensive brands, but show almost the same mean mileage than the much cheaper Ford cars (129157.39 km vs. 124266.24\n"
   ]
  }
 ],
 "metadata": {
  "kernelspec": {
   "display_name": "Python 3",
   "language": "python",
   "name": "python3"
  },
  "language_info": {
   "codemirror_mode": {
    "name": "ipython",
    "version": 3
   },
   "file_extension": ".py",
   "mimetype": "text/x-python",
   "name": "python",
   "nbconvert_exporter": "python",
   "pygments_lexer": "ipython3",
   "version": "3.8.5"
  }
 },
 "nbformat": 4,
 "nbformat_minor": 4
}
